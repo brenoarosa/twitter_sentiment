{
 "cells": [
  {
   "cell_type": "markdown",
   "metadata": {},
   "source": [
    "# Node representation learning with Deep Graph Infomax\n"
   ]
  },
  {
   "cell_type": "markdown",
   "metadata": {},
   "source": [
    "This demo demonstrates how to perform unsupervised training of several models using [the Deep Graph Infomax algorithm](https://stellargraph.readthedocs.io/en/stable/api.html#stellargraph.layer.DeepGraphInfomax) (https://arxiv.org/pdf/1809.10341.pdf) on the CORA dataset:\n",
    "\n",
    "- [GCN](https://stellargraph.readthedocs.io/en/stable/api.html#stellargraph.layer.GCN) (both as a full-batch method, and with [the Cluster-GCN training procedure](https://stellargraph.readthedocs.io/en/stable/api.html#stellargraph.mapper.ClusterNodeGenerator))\n",
    "- [GAT](https://stellargraph.readthedocs.io/en/stable/api.html#stellargraph.layer.GAT) (only as a full-batch method, but the Cluster-GCN training procedure is also supported)\n",
    "- [APPNP](https://stellargraph.readthedocs.io/en/stable/api.html#stellargraph.layer.APPNP) (as with GAT, only as a full-batch method, but the Cluster-GCN training procedure is also supported)\n",
    "- [RGCN](https://stellargraph.readthedocs.io/en/stable/api.html#stellargraph.layer.RGCN)\n",
    "- [GraphSAGE](https://stellargraph.readthedocs.io/en/stable/api.html#stellargraph.layer.GraphSAGE)\n",
    "- [HinSAGE](https://stellargraph.readthedocs.io/en/stable/api.html#stellargraph.layer.HinSAGE)\n",
    "\n",
    "As with all StellarGraph workflows: first we load the dataset, next we create our data generators, and then we train our model. We then take the embeddings created through unsupervised training and predict the node classes using logistic regression.\n",
    "\n",
    "> See [the GCN + Deep Graph Infomax fine-tuning demo](../node-classification/gcn-deep-graph-infomax-fine-tuning-node-classification.ipynb) for semi-supervised training using Deep Graph Infomax, by fine-tuning the base model for node classification using labelled data."
   ]
  },
  {
   "cell_type": "code",
   "execution_count": 1,
   "metadata": {},
   "outputs": [],
   "source": [
    "from stellargraph.mapper import (\n",
    "    CorruptedGenerator,\n",
    "    FullBatchNodeGenerator,\n",
    "    GraphSAGENodeGenerator,\n",
    "    HinSAGENodeGenerator,\n",
    "    ClusterNodeGenerator,\n",
    ")\n",
    "from stellargraph import StellarGraph\n",
    "from stellargraph.layer import GCN, DeepGraphInfomax, GraphSAGE, GAT, APPNP, HinSAGE\n",
    "\n",
    "from stellargraph import datasets\n",
    "from stellargraph.utils import plot_history\n",
    "\n",
    "import pandas as pd\n",
    "from matplotlib import pyplot as plt\n",
    "from sklearn import model_selection\n",
    "from sklearn.linear_model import LogisticRegression\n",
    "from sklearn.manifold import TSNE\n",
    "from IPython.display import display, HTML\n",
    "\n",
    "from tensorflow.keras.optimizers import Adam\n",
    "from tensorflow.keras.callbacks import EarlyStopping\n",
    "import tensorflow as tf\n",
    "from tensorflow.keras import Model\n",
    "\n",
    "import networkx as nx\n",
    "import numpy as np"
   ]
  },
  {
   "cell_type": "code",
   "execution_count": 2,
   "metadata": {
    "tags": [
     "DataLoading"
    ]
   },
   "outputs": [
    {
     "data": {
      "text/html": [
       "The Cora dataset consists of 2708 scientific publications classified into one of seven classes. The citation network consists of 5429 links. Each publication in the dataset is described by a 0/1-valued word vector indicating the absence/presence of the corresponding word from the dictionary. The dictionary consists of 1433 unique words."
      ],
      "text/plain": [
       "<IPython.core.display.HTML object>"
      ]
     },
     "metadata": {},
     "output_type": "display_data"
    }
   ],
   "source": [
    "dataset = datasets.Cora()\n",
    "display(HTML(dataset.description))\n",
    "G, node_subjects = dataset.load()"
   ]
  },
  {
   "cell_type": "code",
   "execution_count": 3,
   "metadata": {},
   "outputs": [
    {
     "name": "stdout",
     "output_type": "stream",
     "text": [
      "StellarGraph: Undirected multigraph\n",
      " Nodes: 2708, Edges: 5429\n",
      "\n",
      " Node types:\n",
      "  paper: [2708]\n",
      "    Features: float32 vector, length 1433\n",
      "    Edge types: paper-cites->paper\n",
      "\n",
      " Edge types:\n",
      "    paper-cites->paper: [5429]\n",
      "        Weights: all 1 (default)\n",
      "        Features: none\n"
     ]
    }
   ],
   "source": [
    "print(G.info())"
   ]
  },
  {
   "cell_type": "markdown",
   "metadata": {},
   "source": [
    "## Data Generators\n",
    "\n",
    "Now we create the data generators using `CorruptedGenerator` ([docs](https://stellargraph.readthedocs.io/en/stable/api.html#stellargraph.mapper.CorruptedGenerator)). `CorruptedGenerator` returns shuffled node features along with the regular node features and we train our model to discriminate between the two. \n",
    "\n",
    "Note that:\n",
    "\n",
    "- We typically pass all nodes to `corrupted_generator.flow` because this is an unsupervised task\n",
    "- We don't pass `targets` to `corrupted_generator.flow` because these are binary labels (true nodes, false nodes) that are created by `CorruptedGenerator`"
   ]
  },
  {
   "cell_type": "code",
   "execution_count": 4,
   "metadata": {},
   "outputs": [
    {
     "name": "stdout",
     "output_type": "stream",
     "text": [
      "Using GCN (local pooling) filters...\n"
     ]
    }
   ],
   "source": [
    "fullbatch_generator = FullBatchNodeGenerator(G, sparse=False)\n",
    "gcn_model = GCN(layer_sizes=[128], activations=[\"relu\"], generator=fullbatch_generator)\n",
    "\n",
    "corrupted_generator = CorruptedGenerator(fullbatch_generator)\n",
    "gen = corrupted_generator.flow(G.nodes())"
   ]
  },
  {
   "cell_type": "code",
   "execution_count": 13,
   "metadata": {},
   "outputs": [
    {
     "data": {
      "text/plain": [
       "<stellargraph.mapper.sequences.FullBatchSequence at 0x7fa650516e50>"
      ]
     },
     "execution_count": 13,
     "metadata": {},
     "output_type": "execute_result"
    }
   ],
   "source": [
    "fullbatch_generator.flow(G.nodes())"
   ]
  },
  {
   "cell_type": "markdown",
   "metadata": {},
   "source": [
    "## GCN Model Creation and Training\n",
    "\n",
    "We create and train our `DeepGraphInfomax` model ([docs](https://stellargraph.readthedocs.io/en/stable/api.html#stellargraph.layer.DeepGraphInfomax)). Note that the loss used here must always be `tf.nn.sigmoid_cross_entropy_with_logits`."
   ]
  },
  {
   "cell_type": "code",
   "execution_count": 46,
   "metadata": {},
   "outputs": [],
   "source": [
    "infomax = DeepGraphInfomax(gcn_model, corrupted_generator)\n",
    "x_in, x_out = infomax.in_out_tensors()\n",
    "\n",
    "model = Model(inputs=x_in, outputs=x_out)\n",
    "model.compile(loss=tf.nn.sigmoid_cross_entropy_with_logits, optimizer=Adam(lr=1e-3))"
   ]
  },
  {
   "cell_type": "code",
   "execution_count": 47,
   "metadata": {
    "tags": [
     "parameters"
    ]
   },
   "outputs": [],
   "source": [
    "epochs = 500"
   ]
  },
  {
   "cell_type": "code",
   "execution_count": 48,
   "metadata": {},
   "outputs": [
    {
     "data": {
      "image/png": "[encoded data removed]",
      "text/plain": [
       "<Figure size 504x288 with 1 Axes>"
      ]
     },
     "metadata": {
      "needs_background": "light"
     },
     "output_type": "display_data"
    }
   ],
   "source": [
    "es = EarlyStopping(monitor=\"loss\", min_delta=0, patience=20)\n",
    "history = model.fit(gen, epochs=epochs, verbose=0, callbacks=[es])\n",
    "plot_history(history)"
   ]
  },
  {
   "cell_type": "markdown",
   "metadata": {},
   "source": [
    "## Extracting Embeddings and Logistic Regression\n",
    "\n",
    "Since we've already trained the weights of our base model - GCN in this example - we can simply use `base_model.in_out_tensors` to obtain the trained node embedding model. Then we use logistic regression on the node embeddings to predict which class the node belongs to.\n",
    "\n",
    "Note that the results here differ from the paper due to different train/test/val splits."
   ]
  },
  {
   "cell_type": "code",
   "execution_count": 49,
   "metadata": {},
   "outputs": [],
   "source": [
    "x_emb_in, x_emb_out = gcn_model.in_out_tensors()\n",
    "\n",
    "# for full batch models, squeeze out the batch dim (which is 1)\n",
    "x_out = tf.squeeze(x_emb_out, axis=0)\n",
    "emb_model = Model(inputs=x_emb_in, outputs=x_out)"
   ]
  },
  {
   "cell_type": "code",
   "execution_count": 50,
   "metadata": {},
   "outputs": [
    {
     "name": "stdout",
     "output_type": "stream",
     "text": [
      "Test classification accuracy: 0.8043478260869565\n"
     ]
    }
   ],
   "source": [
    "train_subjects, test_subjects = model_selection.train_test_split(\n",
    "    node_subjects, train_size=0.1, test_size=None, stratify=node_subjects\n",
    ")\n",
    "\n",
    "test_gen = fullbatch_generator.flow(test_subjects.index)\n",
    "train_gen = fullbatch_generator.flow(train_subjects.index)\n",
    "\n",
    "test_embeddings = emb_model.predict(test_gen)\n",
    "train_embeddings = emb_model.predict(train_gen)\n",
    "\n",
    "lr = LogisticRegression(multi_class=\"auto\", solver=\"lbfgs\")\n",
    "lr.fit(train_embeddings, train_subjects)\n",
    "\n",
    "y_pred = lr.predict(test_embeddings)\n",
    "gcn_acc = (y_pred == test_subjects).mean()\n",
    "print(f\"Test classification accuracy: {gcn_acc}\")"
   ]
  },
  {
   "cell_type": "markdown",
   "metadata": {},
   "source": [
    "This accuracy is close to that for [training a supervised GCN model end-to-end](../node-classification/gcn-node-classification.ipynb), suggesting that Deep Graph Infomax is an effective method for unsupervised training."
   ]
  },
  {
   "cell_type": "markdown",
   "metadata": {},
   "source": [
    "## Visualisation with TSNE\n",
    "\n",
    "Here we visualize the node embeddings with TSNE. As you can see below, the Deep Graph Infomax model produces well separated embeddings using unsupervised training."
   ]
  },
  {
   "cell_type": "code",
   "execution_count": 51,
   "metadata": {},
   "outputs": [],
   "source": [
    "all_embeddings = emb_model.predict(fullbatch_generator.flow(G.nodes()))\n",
    "\n",
    "y = node_subjects.astype(\"category\")\n",
    "trans = TSNE(n_components=2)\n",
    "emb_transformed = pd.DataFrame(trans.fit_transform(all_embeddings), index=G.nodes())\n",
    "emb_transformed[\"label\"] = y"
   ]
  },
  {
   "cell_type": "code",
   "execution_count": 52,
   "metadata": {},
   "outputs": [
    {
     "data": {
      "image/png": "[encoded data removed]",
      "text/plain": [
       "<Figure size 504x504 with 1 Axes>"
      ]
     },
     "metadata": {
      "needs_background": "light"
     },
     "output_type": "display_data"
    }
   ],
   "source": [
    "alpha = 0.7\n",
    "\n",
    "fig, ax = plt.subplots(figsize=(7, 7))\n",
    "ax.scatter(\n",
    "    emb_transformed[0],\n",
    "    emb_transformed[1],\n",
    "    c=emb_transformed[\"label\"].cat.codes,\n",
    "    cmap=\"jet\",\n",
    "    alpha=alpha,\n",
    ")\n",
    "ax.set(aspect=\"equal\", xlabel=\"$X_1$\", ylabel=\"$X_2$\")\n",
    "plt.title(\"TSNE visualization of GCN embeddings for cora dataset\")\n",
    "plt.show()"
   ]
  },
  {
   "cell_type": "markdown",
   "metadata": {},
   "source": [
    "## Comparing Different Models\n",
    "\n",
    "Now we run Deep Graph Infomax training for other models. Note that switching between StellarGraph models only requires a few code changes."
   ]
  },
  {
   "cell_type": "code",
   "execution_count": 13,
   "metadata": {},
   "outputs": [],
   "source": [
    "def run_deep_graph_infomax(\n",
    "    base_model, generator, epochs, reorder=lambda sequence, subjects: subjects\n",
    "):\n",
    "    corrupted_generator = CorruptedGenerator(generator)\n",
    "    gen = corrupted_generator.flow(G.nodes())\n",
    "    infomax = DeepGraphInfomax(base_model, corrupted_generator)\n",
    "\n",
    "    x_in, x_out = infomax.in_out_tensors()\n",
    "\n",
    "    model = Model(inputs=x_in, outputs=x_out)\n",
    "    model.compile(loss=tf.nn.sigmoid_cross_entropy_with_logits, optimizer=Adam(lr=1e-3))\n",
    "    history = model.fit(gen, epochs=epochs, verbose=0, callbacks=[es])\n",
    "\n",
    "    x_emb_in, x_emb_out = base_model.in_out_tensors()\n",
    "    # for full batch models, squeeze out the batch dim (which is 1)\n",
    "    if generator.num_batch_dims() == 2:\n",
    "        x_emb_out = tf.squeeze(x_emb_out, axis=0)\n",
    "\n",
    "    emb_model = Model(inputs=x_emb_in, outputs=x_emb_out)\n",
    "\n",
    "    test_gen = generator.flow(test_subjects.index)\n",
    "    train_gen = generator.flow(train_subjects.index)\n",
    "\n",
    "    test_embeddings = emb_model.predict(test_gen)\n",
    "    train_embeddings = emb_model.predict(train_gen)\n",
    "\n",
    "    # some generators yield predictions in a different order to the .flow argument,\n",
    "    # so we need to get everything lined up correctly\n",
    "    ordered_test_subjects = reorder(test_gen, test_subjects)\n",
    "    ordered_train_subjects = reorder(train_gen, train_subjects)\n",
    "\n",
    "    lr = LogisticRegression(multi_class=\"auto\", solver=\"lbfgs\")\n",
    "    lr.fit(train_embeddings, ordered_train_subjects)\n",
    "\n",
    "    y_pred = lr.predict(test_embeddings)\n",
    "    acc = (y_pred == ordered_test_subjects).mean()\n",
    "\n",
    "    return acc"
   ]
  },
  {
   "cell_type": "markdown",
   "metadata": {},
   "source": [
    "### Cluster-GCN\n",
    "\n",
    "[Cluster-GCN](https://stellargraph.readthedocs.io/en/stable/api.html#stellargraph.mapper.ClusterNodeGenerator) is a scalable training procedure for that works for several \"full batch\" models in StellarGraph, including GCN, GAT and APPNP. This example just trains on GCN. The training mechanism breaks the graph into a number of small subgraph \"clusters\" and trains a single GCN model on these, successively. It is equivalent to full-batch GCN with a single cluster (`clusters=1`), but with `clusters > 1` random clusters (as used here), its performance will be less than GCN. With better clusters, Cluster-GCN performance should be much improved.\n",
    "\n",
    "(Note: `ClusterNodeGenerator` can be [used with Neo4j](https://stellargraph.readthedocs.io/en/stable/demos/connector/neo4j/cluster-gcn-on-cora-neo4j-example.html) for scalable training on large graphs, including unsupervised via Deep Graph Infomax.)"
   ]
  },
  {
   "cell_type": "code",
   "execution_count": 14,
   "metadata": {},
   "outputs": [
    {
     "name": "stdout",
     "output_type": "stream",
     "text": [
      "Number of clusters 12\n",
      "0 cluster has size 225\n",
      "1 cluster has size 225\n",
      "2 cluster has size 225\n",
      "3 cluster has size 225\n",
      "4 cluster has size 225\n",
      "5 cluster has size 225\n",
      "6 cluster has size 225\n",
      "7 cluster has size 225\n",
      "8 cluster has size 225\n",
      "9 cluster has size 225\n",
      "10 cluster has size 225\n",
      "11 cluster has size 233\n",
      "Test classification accuracy: 0.6308449548810501\n"
     ]
    }
   ],
   "source": [
    "cluster_generator = ClusterNodeGenerator(G, clusters=12, q=4)\n",
    "cluster_gcn_model = GCN(\n",
    "    layer_sizes=[128], activations=[\"relu\"], generator=cluster_generator\n",
    ")\n",
    "\n",
    "\n",
    "def cluster_reorder(sequence, subjects):\n",
    "    # shuffle the subjects into the same order as the sequence yield\n",
    "    return subjects[sequence.node_order]\n",
    "\n",
    "\n",
    "cluster_gcn_acc = run_deep_graph_infomax(\n",
    "    cluster_gcn_model, cluster_generator, epochs=epochs, reorder=cluster_reorder\n",
    ")\n",
    "print(f\"Test classification accuracy: {cluster_gcn_acc}\")"
   ]
  },
  {
   "cell_type": "markdown",
   "metadata": {},
   "source": [
    "### GAT\n",
    "\n",
    "[GAT](https://stellargraph.readthedocs.io/en/stable/api.html#stellargraph.layer.GAT) is a \"full batch\" model similar to GCN. It can also be trained using both `FullBatchNodeGenerator` and `ClusterNodeGenerator`, including for Deep Graph Infomax."
   ]
  },
  {
   "cell_type": "code",
   "execution_count": 15,
   "metadata": {},
   "outputs": [
    {
     "name": "stdout",
     "output_type": "stream",
     "text": [
      "Test classification accuracy: 0.4716981132075472\n"
     ]
    }
   ],
   "source": [
    "gat_model = GAT(\n",
    "    layer_sizes=[128], activations=[\"relu\"], generator=fullbatch_generator, attn_heads=8,\n",
    ")\n",
    "gat_acc = run_deep_graph_infomax(gat_model, fullbatch_generator, epochs=epochs)\n",
    "\n",
    "gat_acc\n",
    "print(f\"Test classification accuracy: {gat_acc}\")"
   ]
  },
  {
   "cell_type": "markdown",
   "metadata": {},
   "source": [
    "### APPNP\n",
    "\n",
    "[APPNP](https://stellargraph.readthedocs.io/en/stable/api.html#stellargraph.layer.APPNP) is a \"full batch\" model similar to GCN. It can also be trained using both `FullBatchNodeGenerator` and `ClusterNodeGenerator`, including for Deep Graph Infomax."
   ]
  },
  {
   "cell_type": "code",
   "execution_count": 16,
   "metadata": {},
   "outputs": [
    {
     "name": "stdout",
     "output_type": "stream",
     "text": [
      "Test classification accuracy: 0.440935192780968\n"
     ]
    }
   ],
   "source": [
    "appnp_model = APPNP(\n",
    "    layer_sizes=[128], activations=[\"relu\"], generator=fullbatch_generator\n",
    ")\n",
    "appnp_acc = run_deep_graph_infomax(appnp_model, fullbatch_generator, epochs=epochs)\n",
    "\n",
    "print(f\"Test classification accuracy: {appnp_acc}\")"
   ]
  },
  {
   "cell_type": "markdown",
   "metadata": {},
   "source": [
    "### GraphSAGE\n",
    "\n",
    "[GraphSAGE](https://stellargraph.readthedocs.io/en/stable/api.html#stellargraph.layer.GraphSAGE) is a sampling model, different to the models above."
   ]
  },
  {
   "cell_type": "code",
   "execution_count": 17,
   "metadata": {},
   "outputs": [
    {
     "name": "stdout",
     "output_type": "stream",
     "text": [
      "Test classification accuracy: 0.7210828547990156\n"
     ]
    }
   ],
   "source": [
    "graphsage_generator = GraphSAGENodeGenerator(G, batch_size=1000, num_samples=[5])\n",
    "\n",
    "graphsage_model = GraphSAGE(\n",
    "    layer_sizes=[128], activations=[\"relu\"], generator=graphsage_generator\n",
    ")\n",
    "graphsage_acc = run_deep_graph_infomax(\n",
    "    graphsage_model, graphsage_generator, epochs=epochs\n",
    ")\n",
    "\n",
    "print(f\"Test classification accuracy: {graphsage_acc}\")"
   ]
  },
  {
   "cell_type": "markdown",
   "metadata": {},
   "source": [
    "### Heterogeneous models\n",
    "\n",
    "Cora is a homogeneous graph, with only one type of node (`paper`) and one type of edge (`type`). Models designed for heterogeneous graphs (with more than one of either) can also be applied to homogeneous graphs, but it is not using their additional flexibility.\n",
    "\n",
    "#### HinSAGE\n",
    "\n",
    "[HinSAGE](https://stellargraph.readthedocs.io/en/stable/api.html#stellargraph.layer.HinSAGE) is a generalisation of GraphSAGE to heterogeneous graphs that can be trained with Deep Graph Infomax. For homogeneous graphs, it is equivalent to GraphSAGE and it indeed gives similar results."
   ]
  },
  {
   "cell_type": "code",
   "execution_count": 18,
   "metadata": {},
   "outputs": [
    {
     "name": "stdout",
     "output_type": "stream",
     "text": [
      "Test classification accuracy: 0.7042657916324856\n"
     ]
    }
   ],
   "source": [
    "hinsage_generator = HinSAGENodeGenerator(\n",
    "    G, batch_size=1000, num_samples=[5], head_node_type=\"paper\"\n",
    ")\n",
    "\n",
    "hinsage_model = HinSAGE(\n",
    "    layer_sizes=[128], activations=[\"relu\"], generator=hinsage_generator\n",
    ")\n",
    "hinsage_acc = run_deep_graph_infomax(hinsage_model, hinsage_generator, epochs=epochs)\n",
    "\n",
    "print(f\"Test classification accuracy: {hinsage_acc}\")"
   ]
  },
  {
   "cell_type": "markdown",
   "metadata": {},
   "source": [
    "#### RGCN\n",
    "\n",
    "[RGCN](https://stellargraph.readthedocs.io/en/stable/api.html#stellargraph.layer.RGCN) is a generalisation of GCN to heterogeneous graphs (with multiple edge types) that can be trained with Deep Graph Infomax. For homogeneous graphs, it is similar to GCN. It normalises the graph's adjacency matrix in a different manner and so won't exactly match it."
   ]
  },
  {
   "cell_type": "code",
   "execution_count": 19,
   "metadata": {},
   "outputs": [
    {
     "name": "stdout",
     "output_type": "stream",
     "text": [
      "Test classification accuracy: 0.7366694011484823\n"
     ]
    }
   ],
   "source": [
    "from stellargraph.mapper import RelationalFullBatchNodeGenerator\n",
    "from stellargraph.layer import RGCN\n",
    "\n",
    "rgcn_generator = RelationalFullBatchNodeGenerator(G)\n",
    "\n",
    "rgcn_model = RGCN(layer_sizes=[128], activations=[\"relu\"], generator=rgcn_generator)\n",
    "\n",
    "rgcn_acc = run_deep_graph_infomax(rgcn_model, rgcn_generator, epochs=epochs)\n",
    "print(f\"Test classification accuracy: {rgcn_acc}\")"
   ]
  },
  {
   "cell_type": "markdown",
   "metadata": {},
   "source": [
    "### Overall results\n",
    "\n",
    "The cell below shows the accuracy of each model."
   ]
  },
  {
   "cell_type": "code",
   "execution_count": 20,
   "metadata": {},
   "outputs": [
    {
     "data": {
      "text/html": [
       "<div>\n",
       "<style scoped>\n",
       "    .dataframe tbody tr th:only-of-type {\n",
       "        vertical-align: middle;\n",
       "    }\n",
       "\n",
       "    .dataframe tbody tr th {\n",
       "        vertical-align: top;\n",
       "    }\n",
       "\n",
       "    .dataframe thead th {\n",
       "        text-align: right;\n",
       "    }\n",
       "</style>\n",
       "<table border=\"1\" class=\"dataframe\">\n",
       "  <thead>\n",
       "    <tr style=\"text-align: right;\">\n",
       "      <th></th>\n",
       "      <th>Accuracy</th>\n",
       "    </tr>\n",
       "  </thead>\n",
       "  <tbody>\n",
       "    <tr>\n",
       "      <td>GAT</td>\n",
       "      <td>0.471698</td>\n",
       "    </tr>\n",
       "    <tr>\n",
       "      <td>GCN</td>\n",
       "      <td>0.800246</td>\n",
       "    </tr>\n",
       "    <tr>\n",
       "      <td>Cluster-GCN</td>\n",
       "      <td>0.630845</td>\n",
       "    </tr>\n",
       "    <tr>\n",
       "      <td>APPNP</td>\n",
       "      <td>0.440935</td>\n",
       "    </tr>\n",
       "    <tr>\n",
       "      <td>GraphSAGE</td>\n",
       "      <td>0.721083</td>\n",
       "    </tr>\n",
       "    <tr>\n",
       "      <td>HinSAGE</td>\n",
       "      <td>0.704266</td>\n",
       "    </tr>\n",
       "    <tr>\n",
       "      <td>RGCN</td>\n",
       "      <td>0.736669</td>\n",
       "    </tr>\n",
       "  </tbody>\n",
       "</table>\n",
       "</div>"
      ],
      "text/plain": [
       "             Accuracy\n",
       "GAT          0.471698\n",
       "GCN          0.800246\n",
       "Cluster-GCN  0.630845\n",
       "APPNP        0.440935\n",
       "GraphSAGE    0.721083\n",
       "HinSAGE      0.704266\n",
       "RGCN         0.736669"
      ]
     },
     "execution_count": 68,
     "metadata": {},
     "output_type": "execute_result"
    }
   ],
   "source": [
    "pd.DataFrame(\n",
    "    [gat_acc, gcn_acc, cluster_gcn_acc, appnp_acc, graphsage_acc, hinsage_acc, rgcn_acc],\n",
    "    index=[\"GAT\", \"GCN\", \"Cluster-GCN\", \"APPNP\", \"GraphSAGE\", \"HinSAGE\", \"RGCN\"],\n",
    "    columns=[\"Accuracy\"],\n",
    ")"
   ]
  },
  {
   "cell_type": "markdown",
   "metadata": {},
   "source": [
    "## Conclusion\n",
    "\n",
    "This notebook demonstrated how to use [the Deep Graph Infomax algorithm](https://stellargraph.readthedocs.io/en/stable/api.html#stellargraph.layer.DeepGraphInfomax) to train other algorithms to yield useful embedding vectors for nodes, without supervision. To validate the quality of these vectors, it used logistic regression to perform a supervised node classification task.\n",
    "\n",
    "See [the GCN + Deep Graph Infomax fine-tuning demo](../node-classification/gcn-deep-graph-infomax-fine-tuning-node-classification.ipynb) for semi-supervised training using Deep Graph Infomax, by fine-tuning the base model for node classification using labelled data."
   ]
  },
  {
   "cell_type": "code",
   "execution_count": null,
   "metadata": {},
   "outputs": [],
   "source": []
  },
  {
   "cell_type": "code",
   "execution_count": null,
   "metadata": {},
   "outputs": [],
   "source": []
  },
  {
   "cell_type": "code",
   "execution_count": null,
   "metadata": {},
   "outputs": [],
   "source": []
  },
  {
   "cell_type": "code",
   "execution_count": 2,
   "metadata": {},
   "outputs": [],
   "source": [
    "filepath = \"../data/output/all-edgelist.csv\""
   ]
  },
  {
   "cell_type": "code",
   "execution_count": 3,
   "metadata": {},
   "outputs": [],
   "source": [
    "df = pd.read_csv(filepath, sep=\",\", dtype=\"str\")"
   ]
  },
  {
   "cell_type": "code",
   "execution_count": 4,
   "metadata": {},
   "outputs": [],
   "source": [
    "nx_g = nx.from_pandas_edgelist(df.loc[0:5000000], \"user_id\", \"retweeted_user_id\", create_using=nx.Graph)"
   ]
  },
  {
   "cell_type": "code",
   "execution_count": 5,
   "metadata": {},
   "outputs": [],
   "source": [
    "nx_g.remove_edges_from(nx.selfloop_edges(nx_g))\n",
    "nx_g = nx_g.subgraph(max(nx.connected_components(nx_g), key=len))"
   ]
  },
  {
   "cell_type": "code",
   "execution_count": 6,
   "metadata": {},
   "outputs": [],
   "source": [
    "feat = pd.DataFrame.from_dict(dict(nx_g.degree()), orient=\"index\", columns=[\"degree\"])\n",
    "feat = np.log(1 + feat.degree)"
   ]
  },
  {
   "cell_type": "code",
   "execution_count": 7,
   "metadata": {},
   "outputs": [],
   "source": [
    "G = StellarGraph.from_networkx(nx_g, node_features=feat)"
   ]
  },
  {
   "cell_type": "code",
   "execution_count": 8,
   "metadata": {},
   "outputs": [
    {
     "name": "stdout",
     "output_type": "stream",
     "text": [
      "StellarGraph: Undirected multigraph\n",
      " Nodes: 975807, Edges: 2593299\n",
      "\n",
      " Node types:\n",
      "  default: [975807]\n",
      "    Features: float32 vector, length 1\n",
      "    Edge types: default-default->default\n",
      "\n",
      " Edge types:\n",
      "    default-default->default: [2593299]\n",
      "        Weights: all 1 (default)\n",
      "        Features: none\n"
     ]
    }
   ],
   "source": [
    "print(G.info())"
   ]
  },
  {
   "cell_type": "code",
   "execution_count": null,
   "metadata": {},
   "outputs": [],
   "source": []
  },
  {
   "cell_type": "code",
   "execution_count": 14,
   "metadata": {},
   "outputs": [
    {
     "name": "stdout",
     "output_type": "stream",
     "text": [
      "Using GCN (local pooling) filters...\n"
     ]
    }
   ],
   "source": [
    "fullbatch_generator = FullBatchNodeGenerator(G, sparse=True)\n",
    "gcn_model = GCN(layer_sizes=[128], activations=[\"relu\"], generator=fullbatch_generator)\n",
    "\n",
    "corrupted_generator = CorruptedGenerator(fullbatch_generator)\n",
    "gen = corrupted_generator.flow(G.nodes())"
   ]
  },
  {
   "cell_type": "code",
   "execution_count": null,
   "metadata": {},
   "outputs": [],
   "source": []
  },
  {
   "cell_type": "code",
   "execution_count": 15,
   "metadata": {},
   "outputs": [],
   "source": [
    "infomax = DeepGraphInfomax(gcn_model, corrupted_generator)\n",
    "x_in, x_out = infomax.in_out_tensors()\n",
    "\n",
    "model = Model(inputs=x_in, outputs=x_out)\n",
    "model.compile(loss=tf.nn.sigmoid_cross_entropy_with_logits, optimizer=Adam(lr=1e-3))"
   ]
  },
  {
   "cell_type": "code",
   "execution_count": 16,
   "metadata": {
    "tags": [
     "parameters"
    ]
   },
   "outputs": [],
   "source": [
    "epochs = 400"
   ]
  },
  {
   "cell_type": "code",
   "execution_count": 17,
   "metadata": {
    "scrolled": true
   },
   "outputs": [
    {
     "name": "stdout",
     "output_type": "stream",
     "text": [
      "Epoch 1/400\n",
      "1/1 [==============================] - 0s 634us/step - loss: 0.7207\n",
      "Epoch 2/400\n",
      "1/1 [==============================] - 0s 799us/step - loss: 0.6932\n",
      "Epoch 3/400\n",
      "1/1 [==============================] - 0s 910us/step - loss: 0.6973\n",
      "Epoch 4/400\n",
      "1/1 [==============================] - 0s 830us/step - loss: 0.7043\n",
      "Epoch 5/400\n",
      "1/1 [==============================] - 0s 898us/step - loss: 0.7032\n",
      "Epoch 6/400\n",
      "1/1 [==============================] - 0s 877us/step - loss: 0.6978\n",
      "Epoch 7/400\n",
      "1/1 [==============================] - 0s 826us/step - loss: 0.6928\n",
      "Epoch 8/400\n",
      "1/1 [==============================] - 0s 759us/step - loss: 0.6913\n",
      "Epoch 9/400\n",
      "1/1 [==============================] - 0s 991us/step - loss: 0.6935\n",
      "Epoch 10/400\n",
      "1/1 [==============================] - 0s 809us/step - loss: 0.6962\n",
      "Epoch 11/400\n",
      "1/1 [==============================] - 0s 896us/step - loss: 0.6954\n",
      "Epoch 12/400\n",
      "1/1 [==============================] - 0s 688us/step - loss: 0.6926\n",
      "Epoch 13/400\n",
      "1/1 [==============================] - 0s 1ms/step - loss: 0.6908\n",
      "Epoch 14/400\n",
      "1/1 [==============================] - 0s 906us/step - loss: 0.6904\n",
      "Epoch 15/400\n",
      "1/1 [==============================] - 0s 892us/step - loss: 0.6913\n",
      "Epoch 16/400\n",
      "1/1 [==============================] - 0s 845us/step - loss: 0.6921\n",
      "Epoch 17/400\n",
      "1/1 [==============================] - 0s 907us/step - loss: 0.6924\n",
      "Epoch 18/400\n",
      "1/1 [==============================] - 0s 803us/step - loss: 0.6921\n",
      "Epoch 19/400\n",
      "1/1 [==============================] - 0s 1ms/step - loss: 0.6912\n",
      "Epoch 20/400\n",
      "1/1 [==============================] - 0s 935us/step - loss: 0.6902\n",
      "Epoch 21/400\n",
      "1/1 [==============================] - 0s 874us/step - loss: 0.6898\n",
      "Epoch 22/400\n",
      "1/1 [==============================] - 0s 736us/step - loss: 0.6901\n",
      "Epoch 23/400\n",
      "1/1 [==============================] - 0s 664us/step - loss: 0.6905\n",
      "Epoch 24/400\n",
      "1/1 [==============================] - 0s 650us/step - loss: 0.6908\n",
      "Epoch 25/400\n",
      "1/1 [==============================] - 0s 896us/step - loss: 0.6907\n",
      "Epoch 26/400\n",
      "1/1 [==============================] - 0s 834us/step - loss: 0.6903\n",
      "Epoch 27/400\n",
      "1/1 [==============================] - 0s 687us/step - loss: 0.6899\n",
      "Epoch 28/400\n",
      "1/1 [==============================] - 0s 687us/step - loss: 0.6896\n",
      "Epoch 29/400\n",
      "1/1 [==============================] - 0s 2ms/step - loss: 0.6896\n",
      "Epoch 30/400\n",
      "1/1 [==============================] - 0s 666us/step - loss: 0.6898\n",
      "Epoch 31/400\n",
      "1/1 [==============================] - 0s 875us/step - loss: 0.6900\n",
      "Epoch 32/400\n",
      "1/1 [==============================] - 0s 952us/step - loss: 0.6901\n",
      "Epoch 33/400\n",
      "1/1 [==============================] - 0s 1ms/step - loss: 0.6899\n",
      "Epoch 34/400\n",
      "1/1 [==============================] - 0s 696us/step - loss: 0.6895\n",
      "Epoch 35/400\n",
      "1/1 [==============================] - 0s 832us/step - loss: 0.6894\n",
      "Epoch 36/400\n",
      "1/1 [==============================] - 0s 674us/step - loss: 0.6894\n",
      "Epoch 37/400\n",
      "1/1 [==============================] - 0s 941us/step - loss: 0.6895\n",
      "Epoch 38/400\n",
      "1/1 [==============================] - 0s 826us/step - loss: 0.6895\n",
      "Epoch 39/400\n",
      "1/1 [==============================] - 0s 697us/step - loss: 0.6896\n",
      "Epoch 40/400\n",
      "1/1 [==============================] - 0s 1ms/step - loss: 0.6895\n",
      "Epoch 41/400\n",
      "1/1 [==============================] - 0s 884us/step - loss: 0.6893\n",
      "Epoch 42/400\n",
      "1/1 [==============================] - 0s 950us/step - loss: 0.6892\n",
      "Epoch 43/400\n",
      "1/1 [==============================] - 0s 646us/step - loss: 0.6892\n",
      "Epoch 44/400\n",
      "1/1 [==============================] - 0s 767us/step - loss: 0.6892\n",
      "Epoch 45/400\n",
      "1/1 [==============================] - 0s 990us/step - loss: 0.6892\n",
      "Epoch 46/400\n",
      "1/1 [==============================] - 0s 763us/step - loss: 0.6891\n",
      "Epoch 47/400\n",
      "1/1 [==============================] - 0s 867us/step - loss: 0.6890\n",
      "Epoch 48/400\n",
      "1/1 [==============================] - 0s 677us/step - loss: 0.6888\n",
      "Epoch 49/400\n",
      "1/1 [==============================] - 0s 799us/step - loss: 0.6888\n",
      "Epoch 50/400\n",
      "1/1 [==============================] - 0s 713us/step - loss: 0.6888\n",
      "Epoch 51/400\n",
      "1/1 [==============================] - 0s 691us/step - loss: 0.6887\n",
      "Epoch 52/400\n",
      "1/1 [==============================] - 0s 848us/step - loss: 0.6886\n",
      "Epoch 53/400\n",
      "1/1 [==============================] - 0s 777us/step - loss: 0.6884\n",
      "Epoch 54/400\n",
      "1/1 [==============================] - 0s 853us/step - loss: 0.6883\n",
      "Epoch 55/400\n",
      "1/1 [==============================] - 0s 978us/step - loss: 0.6883\n",
      "Epoch 56/400\n",
      "1/1 [==============================] - 0s 875us/step - loss: 0.6881\n",
      "Epoch 57/400\n",
      "1/1 [==============================] - 0s 1ms/step - loss: 0.6879\n",
      "Epoch 58/400\n",
      "1/1 [==============================] - 0s 694us/step - loss: 0.6878\n",
      "Epoch 59/400\n",
      "1/1 [==============================] - 0s 822us/step - loss: 0.6876\n",
      "Epoch 60/400\n",
      "1/1 [==============================] - 0s 833us/step - loss: 0.6874\n",
      "Epoch 61/400\n",
      "1/1 [==============================] - 0s 847us/step - loss: 0.6872\n",
      "Epoch 62/400\n",
      "1/1 [==============================] - 0s 658us/step - loss: 0.6869\n",
      "Epoch 63/400\n",
      "1/1 [==============================] - 0s 842us/step - loss: 0.6868\n",
      "Epoch 64/400\n",
      "1/1 [==============================] - 0s 868us/step - loss: 0.6865\n",
      "Epoch 65/400\n",
      "1/1 [==============================] - 0s 788us/step - loss: 0.6863\n",
      "Epoch 66/400\n",
      "1/1 [==============================] - 0s 1ms/step - loss: 0.6861\n",
      "Epoch 67/400\n",
      "1/1 [==============================] - 0s 855us/step - loss: 0.6858\n",
      "Epoch 68/400\n",
      "1/1 [==============================] - 0s 783us/step - loss: 0.6855\n",
      "Epoch 69/400\n",
      "1/1 [==============================] - 0s 911us/step - loss: 0.6853\n",
      "Epoch 70/400\n",
      "1/1 [==============================] - 0s 2ms/step - loss: 0.6849\n",
      "Epoch 71/400\n",
      "1/1 [==============================] - 0s 633us/step - loss: 0.6846\n",
      "Epoch 72/400\n",
      "1/1 [==============================] - 0s 922us/step - loss: 0.6844\n",
      "Epoch 73/400\n",
      "1/1 [==============================] - 0s 801us/step - loss: 0.6839\n",
      "Epoch 74/400\n",
      "1/1 [==============================] - 0s 834us/step - loss: 0.6836\n",
      "Epoch 75/400\n",
      "1/1 [==============================] - 0s 649us/step - loss: 0.6833\n",
      "Epoch 76/400\n",
      "1/1 [==============================] - 0s 781us/step - loss: 0.6829\n",
      "Epoch 77/400\n",
      "1/1 [==============================] - 0s 963us/step - loss: 0.6826\n",
      "Epoch 78/400\n",
      "1/1 [==============================] - 0s 880us/step - loss: 0.6821\n",
      "Epoch 79/400\n",
      "1/1 [==============================] - 0s 790us/step - loss: 0.6817\n",
      "Epoch 80/400\n",
      "1/1 [==============================] - 0s 1ms/step - loss: 0.6813\n",
      "Epoch 81/400\n",
      "1/1 [==============================] - 0s 822us/step - loss: 0.6809\n",
      "Epoch 82/400\n",
      "1/1 [==============================] - 0s 696us/step - loss: 0.6805\n",
      "Epoch 83/400\n",
      "1/1 [==============================] - 0s 659us/step - loss: 0.6802\n",
      "Epoch 84/400\n",
      "1/1 [==============================] - 0s 878us/step - loss: 0.6797\n",
      "Epoch 85/400\n",
      "1/1 [==============================] - 0s 815us/step - loss: 0.6792\n",
      "Epoch 86/400\n",
      "1/1 [==============================] - 0s 734us/step - loss: 0.6787\n",
      "Epoch 87/400\n",
      "1/1 [==============================] - 0s 853us/step - loss: 0.6783\n",
      "Epoch 88/400\n",
      "1/1 [==============================] - 0s 1ms/step - loss: 0.6779\n",
      "Epoch 89/400\n",
      "1/1 [==============================] - 0s 985us/step - loss: 0.6774\n",
      "Epoch 90/400\n",
      "1/1 [==============================] - 0s 766us/step - loss: 0.6769\n",
      "Epoch 91/400\n",
      "1/1 [==============================] - 0s 761us/step - loss: 0.6763\n",
      "Epoch 92/400\n",
      "1/1 [==============================] - 0s 851us/step - loss: 0.6758\n",
      "Epoch 93/400\n",
      "1/1 [==============================] - 0s 894us/step - loss: 0.6753\n",
      "Epoch 94/400\n",
      "1/1 [==============================] - 0s 684us/step - loss: 0.6748\n",
      "Epoch 95/400\n",
      "1/1 [==============================] - 0s 608us/step - loss: 0.6743\n",
      "Epoch 96/400\n",
      "1/1 [==============================] - 0s 718us/step - loss: 0.6737\n",
      "Epoch 97/400\n",
      "1/1 [==============================] - 0s 624us/step - loss: 0.6730\n",
      "Epoch 98/400\n",
      "1/1 [==============================] - 0s 759us/step - loss: 0.6726\n",
      "Epoch 99/400\n",
      "1/1 [==============================] - 0s 808us/step - loss: 0.6720\n",
      "Epoch 100/400\n",
      "1/1 [==============================] - 0s 713us/step - loss: 0.6715\n",
      "Epoch 101/400\n",
      "1/1 [==============================] - 0s 832us/step - loss: 0.6708\n",
      "Epoch 102/400\n",
      "1/1 [==============================] - 0s 810us/step - loss: 0.6704\n",
      "Epoch 103/400\n",
      "1/1 [==============================] - 0s 670us/step - loss: 0.6696\n",
      "Epoch 104/400\n",
      "1/1 [==============================] - 0s 759us/step - loss: 0.6692\n",
      "Epoch 105/400\n",
      "1/1 [==============================] - 0s 658us/step - loss: 0.6684\n",
      "Epoch 106/400\n",
      "1/1 [==============================] - 0s 811us/step - loss: 0.6679\n",
      "Epoch 107/400\n",
      "1/1 [==============================] - 0s 770us/step - loss: 0.6674\n",
      "Epoch 108/400\n",
      "1/1 [==============================] - 0s 1ms/step - loss: 0.6667\n",
      "Epoch 109/400\n",
      "1/1 [==============================] - 0s 868us/step - loss: 0.6662\n",
      "Epoch 110/400\n",
      "1/1 [==============================] - 0s 907us/step - loss: 0.6654\n",
      "Epoch 111/400\n",
      "1/1 [==============================] - 0s 885us/step - loss: 0.6649\n",
      "Epoch 112/400\n",
      "1/1 [==============================] - 0s 802us/step - loss: 0.6645\n",
      "Epoch 113/400\n",
      "1/1 [==============================] - 0s 893us/step - loss: 0.6638\n",
      "Epoch 114/400\n",
      "1/1 [==============================] - 0s 770us/step - loss: 0.6632\n",
      "Epoch 115/400\n",
      "1/1 [==============================] - 0s 790us/step - loss: 0.6626\n",
      "Epoch 116/400\n",
      "1/1 [==============================] - 0s 833us/step - loss: 0.6616\n",
      "Epoch 117/400\n",
      "1/1 [==============================] - 0s 713us/step - loss: 0.6614\n",
      "Epoch 118/400\n",
      "1/1 [==============================] - 0s 1ms/step - loss: 0.6608\n",
      "Epoch 119/400\n",
      "1/1 [==============================] - 0s 776us/step - loss: 0.6596\n",
      "Epoch 120/400\n",
      "1/1 [==============================] - 0s 618us/step - loss: 0.6592\n",
      "Epoch 121/400\n",
      "1/1 [==============================] - 0s 720us/step - loss: 0.6585\n",
      "Epoch 122/400\n",
      "1/1 [==============================] - 0s 787us/step - loss: 0.6580\n",
      "Epoch 123/400\n",
      "1/1 [==============================] - 0s 778us/step - loss: 0.6575\n",
      "Epoch 124/400\n",
      "1/1 [==============================] - 0s 923us/step - loss: 0.6567\n",
      "Epoch 125/400\n",
      "1/1 [==============================] - 0s 962us/step - loss: 0.6557\n",
      "Epoch 126/400\n",
      "1/1 [==============================] - 0s 610us/step - loss: 0.6547\n",
      "Epoch 127/400\n",
      "1/1 [==============================] - 0s 2ms/step - loss: 0.6535\n",
      "Epoch 128/400\n",
      "1/1 [==============================] - 0s 707us/step - loss: 0.6528\n",
      "Epoch 129/400\n",
      "1/1 [==============================] - 0s 849us/step - loss: 0.6519\n",
      "Epoch 130/400\n",
      "1/1 [==============================] - 0s 622us/step - loss: 0.6518\n",
      "Epoch 131/400\n",
      "1/1 [==============================] - 0s 920us/step - loss: 0.6507\n",
      "Epoch 132/400\n",
      "1/1 [==============================] - 0s 835us/step - loss: 0.6503\n",
      "Epoch 133/400\n",
      "1/1 [==============================] - 0s 887us/step - loss: 0.6493\n",
      "Epoch 134/400\n",
      "1/1 [==============================] - 0s 765us/step - loss: 0.6484\n",
      "Epoch 135/400\n",
      "1/1 [==============================] - 0s 826us/step - loss: 0.6476\n",
      "Epoch 136/400\n",
      "1/1 [==============================] - 0s 823us/step - loss: 0.6468\n",
      "Epoch 137/400\n",
      "1/1 [==============================] - 0s 811us/step - loss: 0.6460\n",
      "Epoch 138/400\n",
      "1/1 [==============================] - 0s 909us/step - loss: 0.6454\n",
      "Epoch 139/400\n",
      "1/1 [==============================] - 0s 841us/step - loss: 0.6446\n",
      "Epoch 140/400\n",
      "1/1 [==============================] - 0s 696us/step - loss: 0.6440\n",
      "Epoch 141/400\n",
      "1/1 [==============================] - 0s 713us/step - loss: 0.6436\n",
      "Epoch 142/400\n",
      "1/1 [==============================] - 0s 800us/step - loss: 0.6425\n",
      "Epoch 143/400\n",
      "1/1 [==============================] - 0s 751us/step - loss: 0.6418\n",
      "Epoch 144/400\n",
      "1/1 [==============================] - 0s 820us/step - loss: 0.6414\n",
      "Epoch 145/400\n",
      "1/1 [==============================] - 0s 808us/step - loss: 0.6403\n",
      "Epoch 146/400\n",
      "1/1 [==============================] - 0s 588us/step - loss: 0.6398\n",
      "Epoch 147/400\n",
      "1/1 [==============================] - 0s 931us/step - loss: 0.6389\n",
      "Epoch 148/400\n",
      "1/1 [==============================] - 0s 757us/step - loss: 0.6384\n",
      "Epoch 149/400\n",
      "1/1 [==============================] - 0s 904us/step - loss: 0.6373\n",
      "Epoch 150/400\n",
      "1/1 [==============================] - 0s 854us/step - loss: 0.6370\n",
      "Epoch 151/400\n",
      "1/1 [==============================] - 0s 2ms/step - loss: 0.6363\n",
      "Epoch 152/400\n",
      "1/1 [==============================] - 0s 792us/step - loss: 0.6357\n",
      "Epoch 153/400\n",
      "1/1 [==============================] - 0s 1ms/step - loss: 0.6354\n",
      "Epoch 154/400\n",
      "1/1 [==============================] - 0s 888us/step - loss: 0.6347\n",
      "Epoch 155/400\n",
      "1/1 [==============================] - 0s 690us/step - loss: 0.6340\n",
      "Epoch 156/400\n",
      "1/1 [==============================] - 0s 690us/step - loss: 0.6331\n",
      "Epoch 157/400\n",
      "1/1 [==============================] - 0s 843us/step - loss: 0.6326\n",
      "Epoch 158/400\n",
      "1/1 [==============================] - 0s 842us/step - loss: 0.6323\n",
      "Epoch 159/400\n",
      "1/1 [==============================] - 0s 730us/step - loss: 0.6315\n",
      "Epoch 160/400\n",
      "1/1 [==============================] - 0s 839us/step - loss: 0.6310\n",
      "Epoch 161/400\n",
      "1/1 [==============================] - 0s 624us/step - loss: 0.6307\n",
      "Epoch 162/400\n",
      "1/1 [==============================] - 0s 844us/step - loss: 0.6296\n",
      "Epoch 163/400\n",
      "1/1 [==============================] - 0s 872us/step - loss: 0.6295\n",
      "Epoch 164/400\n",
      "1/1 [==============================] - 0s 736us/step - loss: 0.6282\n",
      "Epoch 165/400\n",
      "1/1 [==============================] - 0s 1ms/step - loss: 0.6278\n",
      "Epoch 166/400\n",
      "1/1 [==============================] - 0s 748us/step - loss: 0.6269\n",
      "Epoch 167/400\n",
      "1/1 [==============================] - 0s 773us/step - loss: 0.6264\n",
      "Epoch 168/400\n",
      "1/1 [==============================] - 0s 608us/step - loss: 0.6256\n",
      "Epoch 169/400\n",
      "1/1 [==============================] - 0s 787us/step - loss: 0.6255\n",
      "Epoch 170/400\n",
      "1/1 [==============================] - 0s 791us/step - loss: 0.6244\n",
      "Epoch 171/400\n",
      "1/1 [==============================] - 0s 779us/step - loss: 0.6242\n",
      "Epoch 172/400\n",
      "1/1 [==============================] - 0s 994us/step - loss: 0.6235\n",
      "Epoch 173/400\n",
      "1/1 [==============================] - 0s 810us/step - loss: 0.6226\n",
      "Epoch 174/400\n",
      "1/1 [==============================] - 0s 595us/step - loss: 0.6219\n",
      "Epoch 175/400\n",
      "1/1 [==============================] - 0s 778us/step - loss: 0.6211\n",
      "Epoch 176/400\n",
      "1/1 [==============================] - 0s 776us/step - loss: 0.6209\n",
      "Epoch 177/400\n",
      "1/1 [==============================] - 0s 830us/step - loss: 0.6197\n",
      "Epoch 178/400\n",
      "1/1 [==============================] - 0s 842us/step - loss: 0.6189\n",
      "Epoch 179/400\n",
      "1/1 [==============================] - 0s 903us/step - loss: 0.6179\n",
      "Epoch 180/400\n",
      "1/1 [==============================] - 0s 699us/step - loss: 0.6175\n",
      "Epoch 181/400\n",
      "1/1 [==============================] - 0s 630us/step - loss: 0.6173\n",
      "Epoch 182/400\n",
      "1/1 [==============================] - 0s 791us/step - loss: 0.6162\n",
      "Epoch 183/400\n",
      "1/1 [==============================] - 0s 895us/step - loss: 0.6158\n",
      "Epoch 184/400\n",
      "1/1 [==============================] - 0s 811us/step - loss: 0.6150\n",
      "Epoch 185/400\n",
      "1/1 [==============================] - 0s 720us/step - loss: 0.6145\n",
      "Epoch 186/400\n",
      "1/1 [==============================] - 0s 632us/step - loss: 0.6144\n",
      "Epoch 187/400\n",
      "1/1 [==============================] - 0s 719us/step - loss: 0.6135\n",
      "Epoch 188/400\n",
      "1/1 [==============================] - 0s 653us/step - loss: 0.6125\n",
      "Epoch 189/400\n",
      "1/1 [==============================] - 0s 787us/step - loss: 0.6118\n",
      "Epoch 190/400\n",
      "1/1 [==============================] - 0s 805us/step - loss: 0.6116\n",
      "Epoch 191/400\n",
      "1/1 [==============================] - 0s 710us/step - loss: 0.6109\n",
      "Epoch 192/400\n",
      "1/1 [==============================] - 0s 700us/step - loss: 0.6107\n",
      "Epoch 193/400\n",
      "1/1 [==============================] - 0s 679us/step - loss: 0.6101\n",
      "Epoch 194/400\n",
      "1/1 [==============================] - 0s 928us/step - loss: 0.6097\n",
      "Epoch 195/400\n",
      "1/1 [==============================] - 0s 771us/step - loss: 0.6092\n",
      "Epoch 196/400\n",
      "1/1 [==============================] - 0s 2ms/step - loss: 0.6086\n",
      "Epoch 197/400\n",
      "1/1 [==============================] - 0s 918us/step - loss: 0.6081\n",
      "Epoch 198/400\n",
      "1/1 [==============================] - 0s 806us/step - loss: 0.6073\n",
      "Epoch 199/400\n",
      "1/1 [==============================] - 0s 2ms/step - loss: 0.6069\n",
      "Epoch 200/400\n",
      "1/1 [==============================] - 0s 823us/step - loss: 0.6061\n",
      "Epoch 201/400\n",
      "1/1 [==============================] - 0s 858us/step - loss: 0.6061\n",
      "Epoch 202/400\n"
     ]
    },
    {
     "name": "stdout",
     "output_type": "stream",
     "text": [
      "1/1 [==============================] - 0s 621us/step - loss: 0.6052\n",
      "Epoch 203/400\n",
      "1/1 [==============================] - 0s 933us/step - loss: 0.6047\n",
      "Epoch 204/400\n",
      "1/1 [==============================] - 0s 833us/step - loss: 0.6039\n",
      "Epoch 205/400\n",
      "1/1 [==============================] - 0s 876us/step - loss: 0.6033\n",
      "Epoch 206/400\n",
      "1/1 [==============================] - 0s 1ms/step - loss: 0.6026\n",
      "Epoch 207/400\n",
      "1/1 [==============================] - 0s 670us/step - loss: 0.6026\n",
      "Epoch 208/400\n",
      "1/1 [==============================] - 0s 847us/step - loss: 0.6022\n",
      "Epoch 209/400\n",
      "1/1 [==============================] - 0s 597us/step - loss: 0.6016\n",
      "Epoch 210/400\n",
      "1/1 [==============================] - 0s 759us/step - loss: 0.6006\n",
      "Epoch 211/400\n",
      "1/1 [==============================] - 0s 848us/step - loss: 0.6005\n",
      "Epoch 212/400\n",
      "1/1 [==============================] - 0s 698us/step - loss: 0.6006\n",
      "Epoch 213/400\n",
      "1/1 [==============================] - 0s 2ms/step - loss: 0.5989\n",
      "Epoch 214/400\n",
      "1/1 [==============================] - 0s 804us/step - loss: 0.6000\n",
      "Epoch 215/400\n",
      "1/1 [==============================] - 0s 1ms/step - loss: 0.5987\n",
      "Epoch 216/400\n",
      "1/1 [==============================] - 0s 1ms/step - loss: 0.5988\n",
      "Epoch 217/400\n",
      "1/1 [==============================] - 0s 760us/step - loss: 0.5980\n",
      "Epoch 218/400\n",
      "1/1 [==============================] - 0s 849us/step - loss: 0.5978\n",
      "Epoch 219/400\n",
      "1/1 [==============================] - 0s 800us/step - loss: 0.5970\n",
      "Epoch 220/400\n",
      "1/1 [==============================] - 0s 763us/step - loss: 0.5962\n",
      "Epoch 221/400\n",
      "1/1 [==============================] - 0s 1ms/step - loss: 0.5962\n",
      "Epoch 222/400\n",
      "1/1 [==============================] - 0s 885us/step - loss: 0.5963\n",
      "Epoch 223/400\n",
      "1/1 [==============================] - 0s 977us/step - loss: 0.5956\n",
      "Epoch 224/400\n",
      "1/1 [==============================] - 0s 793us/step - loss: 0.5963\n",
      "Epoch 225/400\n",
      "1/1 [==============================] - 0s 784us/step - loss: 0.5948\n",
      "Epoch 226/400\n",
      "1/1 [==============================] - 0s 1ms/step - loss: 0.5939\n",
      "Epoch 227/400\n",
      "1/1 [==============================] - 0s 1ms/step - loss: 0.5936\n",
      "Epoch 228/400\n",
      "1/1 [==============================] - 0s 779us/step - loss: 0.5937\n",
      "Epoch 229/400\n",
      "1/1 [==============================] - 0s 1ms/step - loss: 0.5929\n",
      "Epoch 230/400\n",
      "1/1 [==============================] - 0s 846us/step - loss: 0.5934\n",
      "Epoch 231/400\n",
      "1/1 [==============================] - 0s 944us/step - loss: 0.5930\n",
      "Epoch 232/400\n",
      "1/1 [==============================] - 0s 924us/step - loss: 0.5920\n",
      "Epoch 233/400\n",
      "1/1 [==============================] - 0s 1ms/step - loss: 0.5917\n",
      "Epoch 234/400\n",
      "1/1 [==============================] - 0s 822us/step - loss: 0.5918\n",
      "Epoch 235/400\n",
      "1/1 [==============================] - 0s 1ms/step - loss: 0.5911\n",
      "Epoch 236/400\n",
      "1/1 [==============================] - 0s 854us/step - loss: 0.5910\n",
      "Epoch 237/400\n",
      "1/1 [==============================] - 0s 830us/step - loss: 0.5908\n",
      "Epoch 238/400\n",
      "1/1 [==============================] - 0s 791us/step - loss: 0.5908\n",
      "Epoch 239/400\n",
      "1/1 [==============================] - 0s 767us/step - loss: 0.5891\n",
      "Epoch 240/400\n",
      "1/1 [==============================] - 0s 705us/step - loss: 0.5902\n",
      "Epoch 241/400\n",
      "1/1 [==============================] - 0s 669us/step - loss: 0.5900\n",
      "Epoch 242/400\n",
      "1/1 [==============================] - 0s 813us/step - loss: 0.5890\n",
      "Epoch 243/400\n",
      "1/1 [==============================] - 0s 738us/step - loss: 0.5890\n",
      "Epoch 244/400\n",
      "1/1 [==============================] - 0s 1ms/step - loss: 0.5882\n",
      "Epoch 245/400\n",
      "1/1 [==============================] - 0s 873us/step - loss: 0.5880\n",
      "Epoch 246/400\n",
      "1/1 [==============================] - 0s 866us/step - loss: 0.5877\n",
      "Epoch 247/400\n",
      "1/1 [==============================] - 0s 992us/step - loss: 0.5870\n",
      "Epoch 248/400\n",
      "1/1 [==============================] - 0s 822us/step - loss: 0.5867\n",
      "Epoch 249/400\n",
      "1/1 [==============================] - 0s 1ms/step - loss: 0.5867\n",
      "Epoch 250/400\n",
      "1/1 [==============================] - 0s 859us/step - loss: 0.5864\n",
      "Epoch 251/400\n",
      "1/1 [==============================] - 0s 848us/step - loss: 0.5865\n",
      "Epoch 252/400\n",
      "1/1 [==============================] - 0s 752us/step - loss: 0.5861\n",
      "Epoch 253/400\n",
      "1/1 [==============================] - 0s 884us/step - loss: 0.5859\n",
      "Epoch 254/400\n",
      "1/1 [==============================] - 0s 789us/step - loss: 0.5857\n",
      "Epoch 255/400\n",
      "1/1 [==============================] - 0s 1ms/step - loss: 0.5856\n",
      "Epoch 256/400\n",
      "1/1 [==============================] - 0s 766us/step - loss: 0.5844\n",
      "Epoch 257/400\n",
      "1/1 [==============================] - 0s 804us/step - loss: 0.5848\n",
      "Epoch 258/400\n",
      "1/1 [==============================] - 0s 913us/step - loss: 0.5848\n",
      "Epoch 259/400\n",
      "1/1 [==============================] - 0s 650us/step - loss: 0.5848\n",
      "Epoch 260/400\n",
      "1/1 [==============================] - 0s 768us/step - loss: 0.5838\n",
      "Epoch 261/400\n",
      "1/1 [==============================] - 0s 811us/step - loss: 0.5834\n",
      "Epoch 262/400\n",
      "1/1 [==============================] - 0s 794us/step - loss: 0.5824\n",
      "Epoch 263/400\n",
      "1/1 [==============================] - 0s 890us/step - loss: 0.5833\n",
      "Epoch 264/400\n",
      "1/1 [==============================] - 0s 695us/step - loss: 0.5826\n",
      "Epoch 265/400\n",
      "1/1 [==============================] - 0s 746us/step - loss: 0.5835\n",
      "Epoch 266/400\n",
      "1/1 [==============================] - 0s 821us/step - loss: 0.5827\n",
      "Epoch 267/400\n",
      "1/1 [==============================] - 0s 874us/step - loss: 0.5821\n",
      "Epoch 268/400\n",
      "1/1 [==============================] - 0s 955us/step - loss: 0.5819\n",
      "Epoch 269/400\n",
      "1/1 [==============================] - 0s 964us/step - loss: 0.5818\n",
      "Epoch 270/400\n",
      "1/1 [==============================] - 0s 826us/step - loss: 0.5813\n",
      "Epoch 271/400\n",
      "1/1 [==============================] - 0s 654us/step - loss: 0.5813\n",
      "Epoch 272/400\n",
      "1/1 [==============================] - 0s 666us/step - loss: 0.5807\n",
      "Epoch 273/400\n",
      "1/1 [==============================] - 0s 637us/step - loss: 0.5807\n",
      "Epoch 274/400\n",
      "1/1 [==============================] - 0s 872us/step - loss: 0.5807\n",
      "Epoch 275/400\n",
      "1/1 [==============================] - 0s 1ms/step - loss: 0.5807\n",
      "Epoch 276/400\n",
      "1/1 [==============================] - 0s 941us/step - loss: 0.5803\n",
      "Epoch 277/400\n",
      "1/1 [==============================] - 0s 832us/step - loss: 0.5792\n",
      "Epoch 278/400\n",
      "1/1 [==============================] - 0s 788us/step - loss: 0.5799\n",
      "Epoch 279/400\n",
      "1/1 [==============================] - 0s 823us/step - loss: 0.5792\n",
      "Epoch 280/400\n",
      "1/1 [==============================] - 0s 697us/step - loss: 0.5798\n",
      "Epoch 281/400\n",
      "1/1 [==============================] - 0s 828us/step - loss: 0.5782\n",
      "Epoch 282/400\n",
      "1/1 [==============================] - 0s 689us/step - loss: 0.5789\n",
      "Epoch 283/400\n",
      "1/1 [==============================] - 0s 868us/step - loss: 0.5787\n",
      "Epoch 284/400\n",
      "1/1 [==============================] - 0s 711us/step - loss: 0.5783\n",
      "Epoch 285/400\n",
      "1/1 [==============================] - 0s 618us/step - loss: 0.5781\n",
      "Epoch 286/400\n",
      "1/1 [==============================] - 0s 757us/step - loss: 0.5777\n",
      "Epoch 287/400\n",
      "1/1 [==============================] - 0s 871us/step - loss: 0.5771\n",
      "Epoch 288/400\n",
      "1/1 [==============================] - 0s 768us/step - loss: 0.5775\n",
      "Epoch 289/400\n",
      "1/1 [==============================] - 0s 823us/step - loss: 0.5773\n",
      "Epoch 290/400\n",
      "1/1 [==============================] - 0s 1ms/step - loss: 0.5770\n",
      "Epoch 291/400\n",
      "1/1 [==============================] - 0s 796us/step - loss: 0.5763\n",
      "Epoch 292/400\n",
      "1/1 [==============================] - 0s 903us/step - loss: 0.5764\n",
      "Epoch 293/400\n",
      "1/1 [==============================] - 0s 704us/step - loss: 0.5754\n",
      "Epoch 294/400\n",
      "1/1 [==============================] - 0s 806us/step - loss: 0.5763\n",
      "Epoch 295/400\n",
      "1/1 [==============================] - 0s 657us/step - loss: 0.5761\n",
      "Epoch 296/400\n",
      "1/1 [==============================] - 0s 629us/step - loss: 0.5752\n",
      "Epoch 297/400\n",
      "1/1 [==============================] - 0s 786us/step - loss: 0.5753\n",
      "Epoch 298/400\n",
      "1/1 [==============================] - 0s 788us/step - loss: 0.5752\n",
      "Epoch 299/400\n",
      "1/1 [==============================] - 0s 684us/step - loss: 0.5749\n",
      "Epoch 300/400\n",
      "1/1 [==============================] - 0s 824us/step - loss: 0.5748\n",
      "Epoch 301/400\n",
      "1/1 [==============================] - 0s 1ms/step - loss: 0.5741\n",
      "Epoch 302/400\n",
      "1/1 [==============================] - 0s 724us/step - loss: 0.5745\n",
      "Epoch 303/400\n",
      "1/1 [==============================] - 0s 730us/step - loss: 0.5742\n",
      "Epoch 304/400\n",
      "1/1 [==============================] - 0s 733us/step - loss: 0.5753\n",
      "Epoch 305/400\n",
      "1/1 [==============================] - 0s 811us/step - loss: 0.5731\n",
      "Epoch 306/400\n",
      "1/1 [==============================] - 0s 713us/step - loss: 0.5734\n",
      "Epoch 307/400\n",
      "1/1 [==============================] - 0s 969us/step - loss: 0.5738\n",
      "Epoch 308/400\n",
      "1/1 [==============================] - 0s 996us/step - loss: 0.5737\n",
      "Epoch 309/400\n",
      "1/1 [==============================] - 0s 624us/step - loss: 0.5738\n",
      "Epoch 310/400\n",
      "1/1 [==============================] - 0s 666us/step - loss: 0.5738\n",
      "Epoch 311/400\n",
      "1/1 [==============================] - 0s 829us/step - loss: 0.5726\n",
      "Epoch 312/400\n",
      "1/1 [==============================] - 0s 755us/step - loss: 0.5729\n",
      "Epoch 313/400\n",
      "1/1 [==============================] - 0s 1ms/step - loss: 0.5726\n",
      "Epoch 314/400\n",
      "1/1 [==============================] - 0s 784us/step - loss: 0.5727\n",
      "Epoch 315/400\n",
      "1/1 [==============================] - 0s 842us/step - loss: 0.5726\n",
      "Epoch 316/400\n",
      "1/1 [==============================] - 0s 1ms/step - loss: 0.5719\n",
      "Epoch 317/400\n",
      "1/1 [==============================] - 0s 830us/step - loss: 0.5714\n",
      "Epoch 318/400\n",
      "1/1 [==============================] - 0s 859us/step - loss: 0.5714\n",
      "Epoch 319/400\n",
      "1/1 [==============================] - 0s 758us/step - loss: 0.5712\n",
      "Epoch 320/400\n",
      "1/1 [==============================] - 0s 1ms/step - loss: 0.5708\n",
      "Epoch 321/400\n",
      "1/1 [==============================] - 0s 943us/step - loss: 0.5699\n",
      "Epoch 322/400\n",
      "1/1 [==============================] - 0s 673us/step - loss: 0.5707\n",
      "Epoch 323/400\n",
      "1/1 [==============================] - 0s 959us/step - loss: 0.5707\n",
      "Epoch 324/400\n",
      "1/1 [==============================] - 0s 725us/step - loss: 0.5707\n",
      "Epoch 325/400\n",
      "1/1 [==============================] - 0s 798us/step - loss: 0.5711\n",
      "Epoch 326/400\n",
      "1/1 [==============================] - 0s 788us/step - loss: 0.5706\n",
      "Epoch 327/400\n",
      "1/1 [==============================] - 0s 701us/step - loss: 0.5705\n",
      "Epoch 328/400\n",
      "1/1 [==============================] - 0s 946us/step - loss: 0.5698\n",
      "Epoch 329/400\n",
      "1/1 [==============================] - 0s 793us/step - loss: 0.5704\n",
      "Epoch 330/400\n",
      "1/1 [==============================] - 0s 789us/step - loss: 0.5691\n",
      "Epoch 331/400\n",
      "1/1 [==============================] - 0s 801us/step - loss: 0.5691\n",
      "Epoch 332/400\n",
      "1/1 [==============================] - 0s 811us/step - loss: 0.5695\n",
      "Epoch 333/400\n",
      "1/1 [==============================] - 0s 1ms/step - loss: 0.5696\n",
      "Epoch 334/400\n",
      "1/1 [==============================] - 0s 606us/step - loss: 0.5688\n",
      "Epoch 335/400\n",
      "1/1 [==============================] - 0s 994us/step - loss: 0.5683\n",
      "Epoch 336/400\n",
      "1/1 [==============================] - 0s 840us/step - loss: 0.5683\n",
      "Epoch 337/400\n",
      "1/1 [==============================] - 0s 1ms/step - loss: 0.5683\n",
      "Epoch 338/400\n",
      "1/1 [==============================] - 0s 793us/step - loss: 0.5681\n",
      "Epoch 339/400\n",
      "1/1 [==============================] - 0s 896us/step - loss: 0.5690\n",
      "Epoch 340/400\n",
      "1/1 [==============================] - 0s 939us/step - loss: 0.5693\n",
      "Epoch 341/400\n",
      "1/1 [==============================] - 0s 762us/step - loss: 0.5685\n",
      "Epoch 342/400\n",
      "1/1 [==============================] - 0s 729us/step - loss: 0.5688\n",
      "Epoch 343/400\n",
      "1/1 [==============================] - 0s 792us/step - loss: 0.5683\n",
      "Epoch 344/400\n",
      "1/1 [==============================] - 0s 820us/step - loss: 0.5677\n",
      "Epoch 345/400\n",
      "1/1 [==============================] - 0s 634us/step - loss: 0.5683\n",
      "Epoch 346/400\n",
      "1/1 [==============================] - 0s 1ms/step - loss: 0.5677\n",
      "Epoch 347/400\n",
      "1/1 [==============================] - 0s 741us/step - loss: 0.5674\n",
      "Epoch 348/400\n",
      "1/1 [==============================] - 0s 770us/step - loss: 0.5671\n",
      "Epoch 349/400\n",
      "1/1 [==============================] - 0s 2ms/step - loss: 0.5674\n",
      "Epoch 350/400\n",
      "1/1 [==============================] - 0s 815us/step - loss: 0.5670\n",
      "Epoch 351/400\n",
      "1/1 [==============================] - 0s 895us/step - loss: 0.5677\n",
      "Epoch 352/400\n",
      "1/1 [==============================] - 0s 916us/step - loss: 0.5664\n",
      "Epoch 353/400\n",
      "1/1 [==============================] - 0s 782us/step - loss: 0.5668\n",
      "Epoch 354/400\n",
      "1/1 [==============================] - 0s 700us/step - loss: 0.5662\n",
      "Epoch 355/400\n",
      "1/1 [==============================] - 0s 685us/step - loss: 0.5662\n",
      "Epoch 356/400\n",
      "1/1 [==============================] - 0s 889us/step - loss: 0.5670\n",
      "Epoch 357/400\n",
      "1/1 [==============================] - 0s 648us/step - loss: 0.5655\n",
      "Epoch 358/400\n",
      "1/1 [==============================] - 0s 702us/step - loss: 0.5656\n",
      "Epoch 359/400\n",
      "1/1 [==============================] - 0s 761us/step - loss: 0.5654\n",
      "Epoch 360/400\n",
      "1/1 [==============================] - 0s 857us/step - loss: 0.5655\n",
      "Epoch 361/400\n",
      "1/1 [==============================] - 0s 1ms/step - loss: 0.5651\n",
      "Epoch 362/400\n",
      "1/1 [==============================] - 0s 1ms/step - loss: 0.5659\n",
      "Epoch 363/400\n",
      "1/1 [==============================] - 0s 671us/step - loss: 0.5650\n",
      "Epoch 364/400\n",
      "1/1 [==============================] - 0s 1ms/step - loss: 0.5656\n",
      "Epoch 365/400\n",
      "1/1 [==============================] - 0s 816us/step - loss: 0.5650\n",
      "Epoch 366/400\n",
      "1/1 [==============================] - 0s 663us/step - loss: 0.5646\n",
      "Epoch 367/400\n",
      "1/1 [==============================] - 0s 693us/step - loss: 0.5645\n",
      "Epoch 368/400\n",
      "1/1 [==============================] - 0s 798us/step - loss: 0.5648\n",
      "Epoch 369/400\n",
      "1/1 [==============================] - 0s 862us/step - loss: 0.5637\n",
      "Epoch 370/400\n",
      "1/1 [==============================] - 0s 709us/step - loss: 0.5644\n",
      "Epoch 371/400\n",
      "1/1 [==============================] - 0s 690us/step - loss: 0.5645\n",
      "Epoch 372/400\n",
      "1/1 [==============================] - 0s 1ms/step - loss: 0.5636\n",
      "Epoch 373/400\n",
      "1/1 [==============================] - 0s 837us/step - loss: 0.5643\n",
      "Epoch 374/400\n",
      "1/1 [==============================] - 0s 714us/step - loss: 0.5645\n",
      "Epoch 375/400\n",
      "1/1 [==============================] - 0s 772us/step - loss: 0.5627\n",
      "Epoch 376/400\n",
      "1/1 [==============================] - 0s 644us/step - loss: 0.5630\n",
      "Epoch 377/400\n",
      "1/1 [==============================] - 0s 788us/step - loss: 0.5631\n",
      "Epoch 378/400\n",
      "1/1 [==============================] - 0s 802us/step - loss: 0.5634\n",
      "Epoch 379/400\n",
      "1/1 [==============================] - 0s 914us/step - loss: 0.5625\n",
      "Epoch 380/400\n",
      "1/1 [==============================] - 0s 688us/step - loss: 0.5624\n",
      "Epoch 381/400\n",
      "1/1 [==============================] - 0s 710us/step - loss: 0.5627\n",
      "Epoch 382/400\n",
      "1/1 [==============================] - 0s 793us/step - loss: 0.5620\n",
      "Epoch 383/400\n",
      "1/1 [==============================] - 0s 803us/step - loss: 0.5624\n",
      "Epoch 384/400\n",
      "1/1 [==============================] - 0s 924us/step - loss: 0.5619\n",
      "Epoch 385/400\n",
      "1/1 [==============================] - 0s 761us/step - loss: 0.5632\n",
      "Epoch 386/400\n",
      "1/1 [==============================] - 0s 1ms/step - loss: 0.5615\n",
      "Epoch 387/400\n",
      "1/1 [==============================] - 0s 815us/step - loss: 0.5625\n",
      "Epoch 388/400\n",
      "1/1 [==============================] - 0s 652us/step - loss: 0.5629\n",
      "Epoch 389/400\n",
      "1/1 [==============================] - 0s 701us/step - loss: 0.5628\n",
      "Epoch 390/400\n",
      "1/1 [==============================] - 0s 1ms/step - loss: 0.5615\n",
      "Epoch 391/400\n",
      "1/1 [==============================] - 0s 792us/step - loss: 0.5614\n",
      "Epoch 392/400\n",
      "1/1 [==============================] - 0s 911us/step - loss: 0.5612\n",
      "Epoch 393/400\n",
      "1/1 [==============================] - 0s 800us/step - loss: 0.5620\n",
      "Epoch 394/400\n",
      "1/1 [==============================] - 0s 789us/step - loss: 0.5613\n",
      "Epoch 395/400\n",
      "1/1 [==============================] - 0s 634us/step - loss: 0.5612\n",
      "Epoch 396/400\n",
      "1/1 [==============================] - 0s 730us/step - loss: 0.5611\n",
      "Epoch 397/400\n",
      "1/1 [==============================] - 0s 861us/step - loss: 0.5610\n",
      "Epoch 398/400\n",
      "1/1 [==============================] - 0s 618us/step - loss: 0.5618\n",
      "Epoch 399/400\n",
      "1/1 [==============================] - 0s 844us/step - loss: 0.5607\n",
      "Epoch 400/400\n",
      "1/1 [==============================] - 0s 827us/step - loss: 0.5613\n"
     ]
    }
   ],
   "source": [
    "es = EarlyStopping(monitor=\"loss\", min_delta=0, patience=20)\n",
    "history = model.fit(gen, epochs=epochs, verbose=1, callbacks=[es])"
   ]
  },
  {
   "cell_type": "code",
   "execution_count": 18,
   "metadata": {},
   "outputs": [
    {
     "data": {
      "image/png": "[encoded data removed]",
      "text/plain": [
       "<Figure size 504x288 with 1 Axes>"
      ]
     },
     "metadata": {
      "needs_background": "light"
     },
     "output_type": "display_data"
    }
   ],
   "source": [
    "plot_history(history)"
   ]
  },
  {
   "cell_type": "code",
   "execution_count": null,
   "metadata": {},
   "outputs": [],
   "source": []
  },
  {
   "cell_type": "code",
   "execution_count": 19,
   "metadata": {},
   "outputs": [],
   "source": [
    "x_emb_in, x_emb_out = gcn_model.in_out_tensors()\n",
    "\n",
    "# for full batch models, squeeze out the batch dim (which is 1)\n",
    "x_out = tf.squeeze(x_emb_out, axis=0)\n",
    "emb_model = Model(inputs=x_emb_in, outputs=x_out)"
   ]
  },
  {
   "cell_type": "code",
   "execution_count": 20,
   "metadata": {},
   "outputs": [],
   "source": [
    "graph_embeddings = emb_model.predict(fullbatch_generator.flow(G.nodes()))"
   ]
  },
  {
   "cell_type": "code",
   "execution_count": 21,
   "metadata": {},
   "outputs": [
    {
     "data": {
      "text/plain": [
       "(975807, 128)"
      ]
     },
     "execution_count": 21,
     "metadata": {},
     "output_type": "execute_result"
    }
   ],
   "source": [
    "graph_embeddings.shape"
   ]
  },
  {
   "cell_type": "code",
   "execution_count": null,
   "metadata": {},
   "outputs": [],
   "source": []
  },
  {
   "cell_type": "code",
   "execution_count": null,
   "metadata": {},
   "outputs": [],
   "source": []
  },
  {
   "cell_type": "markdown",
   "metadata": {},
   "source": [
    "### Deep info max paper:\n",
    "\n",
    "\"Given the large scale of the dataset, it will not fit into GPU memory entirely. Therefore, we use\n",
    "the subsampling approach of Hamilton et al. (2017a), where a minibatch of nodes is first selected,\n",
    "and then a subgraph centered around each of them is obtained by sampling node neighborhoods\n",
    "with replacement. Specifically, we sample 10, 10 and 25 neighbors at the first, second and third\n",
    "level, respectively—thus, each subsampled patch has 1 + 10 + 100 + 2500 = 2611 nodes. Only the\n",
    "computations necessary for deriving the central node i’s patch representation, ~h i , are performed.\n",
    "These representations are then used to derive the summary vector, ~s , for the minibatch (Figure 2).\n",
    "We used minibatches of 256 nodes throughout training\"\n",
    "\n",
    "Talvez usar o generator de graphsage?  \n",
    "GraphSAGENodeGenerator(G, batch_size, num_samples, seed=None, name=None, weighted=False)\n",
    "\n",
    "graphsagenerator nao é compativel com GCN pelo visto"
   ]
  },
  {
   "cell_type": "code",
   "execution_count": null,
   "metadata": {},
   "outputs": [],
   "source": []
  },
  {
   "cell_type": "code",
   "execution_count": null,
   "metadata": {},
   "outputs": [],
   "source": []
  }
 ],
 "metadata": {
  "kernelspec": {
   "display_name": "Python 3",
   "language": "python",
   "name": "python3"
  },
  "language_info": {
   "codemirror_mode": {
    "name": "ipython",
    "version": 3
   },
   "file_extension": ".py",
   "mimetype": "text/x-python",
   "name": "python",
   "nbconvert_exporter": "python",
   "pygments_lexer": "ipython3",
   "version": "3.8.2"
  }
 },
 "nbformat": 4,
 "nbformat_minor": 4
}
